{
 "cells": [
  {
   "cell_type": "code",
   "execution_count": 37,
   "id": "d891131c",
   "metadata": {},
   "outputs": [],
   "source": [
    "import numpy as np\n",
    "import random\n",
    "import matplotlib.pyplot as plt\n",
    "import pandas as pd\n",
    "import time\n",
    "from scipy.linalg import block_diag\n",
    "from scipy import linalg\n",
    "import control\n",
    "import matplotlib.colors as colors\n",
    "from matplotlib import style\n",
    "from matplotlib.patches import Rectangle\n",
    "from numpy.linalg import matrix_power\n",
    "import cvxpy as cp"
   ]
  },
  {
   "cell_type": "code",
   "execution_count": 38,
   "id": "e02e208e",
   "metadata": {},
   "outputs": [],
   "source": [
    "# finding the value of Gamma_k, a helper\n",
    "def Gamma(F,G,K,k):\n",
    "    Gamma_k = np.zeros(F.shape)\n",
    "    for h in range(k+1):\n",
    "        Gamma_k += matrix_power(F - G @ K, h) @ G @ K @ matrix_power(F - G @ K, k-h)\n",
    "    return -Gamma_k"
   ]
  },
  {
   "cell_type": "code",
   "execution_count": 39,
   "id": "455e32c3",
   "metadata": {},
   "outputs": [],
   "source": [
    "# finding the value of x_0' at any k\n",
    "def xk_prime(F_K,k,x_0_prime):\n",
    "    xk_prime = matrix_power(F_K,k)@x_0_prime\n",
    "    return xk_prime\n",
    "    # finding the mean value of x_0'' at any k\n",
    "    \n",
    "def bar_xk_Dprime(F_K,k,x_0_Dprime,x_0_prime):\n",
    "    bar_x_Dprime = matrix_power(F_K,k)@x_0_Dprime + Gamma(F,G,K,k-1)@x_0_prime\n",
    "    return bar_x_Dprime"
   ]
  },
  {
   "cell_type": "code",
   "execution_count": 40,
   "id": "5c19abcf",
   "metadata": {},
   "outputs": [],
   "source": [
    "# calculating constant values \\mathcal A1, A2 of J_c(x_0')\n",
    "def A1_and_A2(F,G,K,Q,R,N):\n",
    "    A1 = Gamma(F,G,K,N-1).T @ Q @ Gamma(F,G,K,N-1)\n",
    "    F_K = F - G @ K\n",
    "    A2 = matrix_power(F_K,N).T @ Q @ Gamma(F,G,K,N-1) \n",
    "    for k in range(N):\n",
    "        A1 += Gamma(F,G,K,k-1).T @ Q @ Gamma(F,G,K,k-1) + (matrix_power(F_K,k) + \n",
    "                Gamma(F,G,K,k-1)).T @ K.T @ R @ K @ (matrix_power(F_K,k) + Gamma(F,G,K,k-1))\n",
    "        A2 += matrix_power(F_K,k).T @ (Q @ Gamma(F,G,K,k-1) + K.T @ R @ K @ (matrix_power(F_K,k) + Gamma(F,G,K,k-1)))\n",
    "    return A1/N, A2/N\n"
   ]
  },
  {
   "cell_type": "markdown",
   "id": "d39e3407",
   "metadata": {},
   "source": [
    "Need a function to calculate the sigmas. Need a function to calculate the P, and a function\n",
    "to return the quadratic constraint."
   ]
  },
  {
   "cell_type": "code",
   "execution_count": 41,
   "id": "697434d7",
   "metadata": {},
   "outputs": [],
   "source": [
    "def Constraints(F,G,K,T,S,Sigma_x,Sigma_u,x0_bar,x0_prime,uBar,xBar,N,epsilon):\n",
    "    constraints = [-S @ K @ x0_prime <= uBar + S @ K @ x0_bar]\n",
    "    \n",
    "    for k in range(1,N+1):\n",
    "        constraints += [T @ Gamma(F,G,K,k-1) @ x0_prime <= xBar-np.sqrt((1-epsilon)/epsilon)*\\\n",
    "            np.sqrt(np.diag(T@Sigma_x@T.T).reshape(1,1))-T@matrix_power(F-G@K,k)@x0_bar]\n",
    "        if (k<N):\n",
    "            constraints += [-S @ K @ (Gamma(F,G,K,k-1) + matrix_power(F-G@K,k)) @ x0_prime <= \n",
    "                            uBar-np.sqrt((1-epsilon)/epsilon)*\\\n",
    "                np.sqrt(np.diag(S@Sigma_u@S.T).reshape(1,1))+S@K@matrix_power(F-G@K,k)@x0_bar]\n",
    "    return constraints\n",
    " \n",
    "def terminal_constraints(F,G,K,N,P):\n",
    "    n = F.shape[0]\n",
    "    F_K = F - G @ K\n",
    "    P11 = P[0:n,0:n]\n",
    "    P22 = P[n:2*n,n:2*n]\n",
    "    P12 = P[0:n,n:2*n]\n",
    "    \n",
    "    I1 = Gamma(F,G,K,N-1).T @ P11 @ Gamma(F,G,K,N-1)\n",
    "    I2 = 2 * (F_K.T) ** N @ (P11 + P12.T) @ Gamma(F,G,K,N-1)\n",
    "    I3 = (F_K.T) ** N * (P11 + 2 * P12.T + P22) @ F_K ** N\n",
    "    return I1, I2, I3\n"
   ]
  },
  {
   "cell_type": "code",
   "execution_count": 42,
   "id": "fa424be3",
   "metadata": {},
   "outputs": [],
   "source": [
    "def big_covariance_Sigma(F,G,K,H,L,Sigma_v,Sigma_w):\n",
    "    Phi1 = np.concatenate((F - L @ H, np.zeros(F.shape)), axis=1)\n",
    "    Phi2 = np.concatenate((L @ H, F - G @ K), axis=1)\n",
    "    Phi = np.concatenate((Phi1,Phi2), axis=0)\n",
    "    \n",
    "    Psi1 = np.concatenate((np.eye(F.shape[0]), -L), axis=1)\n",
    "    Psi2 = np.concatenate((np.zeros(F.shape), L), axis=1)\n",
    "    Psi = np.concatenate((Psi1,Psi2), axis=0)\n",
    "    \n",
    "    Omega = block_diag(Sigma_w,Sigma_v)\n",
    "    Sigma = linalg.solve_discrete_lyapunov(Phi, Psi @ Omega @ Psi.T)\n",
    "    return Sigma\n",
    "    \n",
    "def lyapunov_matrix_P(F,G,K,Q0):\n",
    "    A1 = np.concatenate((F - G @ K, -G @ K), axis=1)\n",
    "    A2 = np.concatenate((np.zeros(F.shape), F - G @ K), axis=1)\n",
    "    AT = np.concatenate((A1,A2), axis=0)\n",
    "    A = AT.T\n",
    "    P = linalg.solve_discrete_lyapunov(A, Q0)\n",
    "    return P"
   ]
  },
  {
   "cell_type": "code",
   "execution_count": 43,
   "id": "5a5698d9",
   "metadata": {},
   "outputs": [],
   "source": [
    "# 1 step of the kalman filter: time update then measurement update\n",
    "def x_hat_update(y0,F,G,H,L,x00,u): \n",
    "    x11 = F @ x00 + G @ u + L @ (y0 - H @ x00) \n",
    "    return x11\n",
    "\n",
    "def x_true_update(x0,F,G,u,H,Sigma_w,Sigma_v):\n",
    "    x1 = F @ x0 + G @ u + np.sqrt(Sigma_w) @ np.random.randn(x0.shape[0],1)\n",
    "    y0 = H @ x0 + np.sqrt(Sigma_v) @ np.random.randn(H.shape[0],1)\n",
    "    return x1, y0"
   ]
  },
  {
   "cell_type": "code",
   "execution_count": 44,
   "id": "b92fc699",
   "metadata": {},
   "outputs": [],
   "source": [
    "# State dynamics\n",
    "F=np.array([[1,0.0075],[-0.143,0.996]])\n",
    "G=np.array([[4.798,0.115]]).T\n",
    "H=np.array([[1,0],[0,1]])\n",
    "\n",
    "Sigma_x0=np.diag(np.array([0.1,0.1]))\n",
    "mu_x0=-np.array([[0.6455,1.3751]]).T\n",
    "Sigma_w=np.diag(np.array([0.1,0.1]))\n",
    "Sigma_v=np.diag(np.array([0.5,0.4]))\n",
    "\n",
    "# LQR: costs and gain\n",
    "Q=np.diag([1,10])\n",
    "R=10*np.eye(G.shape[1])\n",
    "K, _, _ = control.dlqr(F, G, Q, R)\n",
    "L, _, _ = control.dlqe(F, np.eye(F.shape[0]), H, Sigma_w, Sigma_v)\n",
    "#L = (F - G @ K) @ L # One-step ahead predictor\n",
    "\n",
    "# N: prediction horizon, T: horizon, epsilon: tolerance\n",
    "N=6\n",
    "T_horizon=100\n",
    "epsilon=0.1\n",
    "\n",
    "Q0 = 0.00 * np.eye(2 * F.shape[0])\n",
    "P = lyapunov_matrix_P(F,G,K,Q0)\n",
    "I1, I2, I3 = terminal_constraints(F,G,K,N,P)\n",
    "Sigma = big_covariance_Sigma(F,G,K,H,L,Sigma_v,Sigma_w)\n",
    "I_I = np.concatenate((np.eye(F.shape[0]),np.eye(F.shape[0])), axis=1)\n",
    "K_0 = K @ np.concatenate((np.zeros(F.shape), np.eye(F.shape[0])), axis=1)\n",
    "Sigma_x = I_I @ Sigma @ I_I.T\n",
    "Sigma_u = K_0 @ Sigma @ K_0.T\n",
    "# Constraints\n",
    "T=np.array([[1,0]])\n",
    "S=np.array([[0]])\n",
    "xBar=np.array([[2]]).T\n",
    "uBar=10 ** 8\n",
    "\n",
    "# Few parameters\n",
    "n=F.shape[0]\n",
    "t=T.shape[0]\n",
    "m=S.shape[0]\n",
    "\n",
    "c=200\n",
    "# Calculate A1 and A2\n",
    "A1, A2 = A1_and_A2(F,G,K,Q,R,N)"
   ]
  },
  {
   "cell_type": "code",
   "execution_count": 45,
   "id": "960f871f",
   "metadata": {},
   "outputs": [
    {
     "data": {
      "text/plain": [
       "(array([0.03394952]), array([[1.]]))"
      ]
     },
     "execution_count": 45,
     "metadata": {},
     "output_type": "execute_result"
    }
   ],
   "source": [
    "np.linalg.eig(Sigma_u)"
   ]
  },
  {
   "cell_type": "code",
   "execution_count": 51,
   "id": "a592b0af",
   "metadata": {},
   "outputs": [
    {
     "name": "stdout",
     "output_type": "stream",
     "text": [
      "0\n"
     ]
    },
    {
     "ename": "ValueError",
     "evalue": "matmul: Input operand 1 does not have enough dimensions (has 0, gufunc core with signature (n?,k),(k,m?)->(n?,m?) requires 1)",
     "output_type": "error",
     "traceback": [
      "\u001b[0;31m---------------------------------------------------------------------------\u001b[0m",
      "\u001b[0;31mValueError\u001b[0m                                Traceback (most recent call last)",
      "Cell \u001b[0;32mIn[51], line 38\u001b[0m\n\u001b[1;32m     36\u001b[0m x0star \u001b[38;5;241m=\u001b[39m x0_prime\u001b[38;5;241m.\u001b[39mvalue\n\u001b[1;32m     37\u001b[0m x0_prime_rec[:,k] \u001b[38;5;241m=\u001b[39m x0star\n\u001b[0;32m---> 38\u001b[0m u \u001b[38;5;241m=\u001b[39m \u001b[38;5;241m1\u001b[39m \u001b[38;5;241m*\u001b[39m np\u001b[38;5;241m.\u001b[39marray((\u001b[43mK\u001b[49m\u001b[43m \u001b[49m\u001b[38;5;241;43m@\u001b[39;49m\u001b[43m \u001b[49m\u001b[43mx0star\u001b[49m)\u001b[38;5;241m.\u001b[39mreshape(\u001b[38;5;241m1\u001b[39m,\u001b[38;5;241m1\u001b[39m)) \u001b[38;5;241m+\u001b[39m np\u001b[38;5;241m.\u001b[39marray((K \u001b[38;5;241m@\u001b[39m x0_hat)\u001b[38;5;241m.\u001b[39mreshape(\u001b[38;5;241m1\u001b[39m,\u001b[38;5;241m1\u001b[39m))\n\u001b[1;32m     39\u001b[0m u \u001b[38;5;241m=\u001b[39m np\u001b[38;5;241m.\u001b[39marray((K \u001b[38;5;241m@\u001b[39m x0_hat)\u001b[38;5;241m.\u001b[39mreshape(\u001b[38;5;241m1\u001b[39m,\u001b[38;5;241m1\u001b[39m))\n\u001b[1;32m     40\u001b[0m u \u001b[38;5;241m=\u001b[39m \u001b[38;5;241m-\u001b[39mu\n",
      "\u001b[0;31mValueError\u001b[0m: matmul: Input operand 1 does not have enough dimensions (has 0, gufunc core with signature (n?,k),(k,m?)->(n?,m?) requires 1)"
     ]
    },
    {
     "data": {
      "image/png": "[encoded data removed]",
      "text/plain": [
       "<Figure size 300x200 with 1 Axes>"
      ]
     },
     "metadata": {},
     "output_type": "display_data"
    }
   ],
   "source": [
    "\n",
    "plt.style.use('bmh')\n",
    "fig= plt.figure(figsize=(3.0,2.0))\n",
    "rectangle = plt.Rectangle((2,-10), 20, 20, fc='None',ec=\"grey\", hatch='xx',zorder=1)\n",
    "plt.gca().add_patch(rectangle)\n",
    "\n",
    "plt.xticks(fontsize=7)  \n",
    "plt.yticks(fontsize=7)  \n",
    "plt.xlabel('$x^1_k$', fontsize=9)  \n",
    "plt.ylabel('$x^2_k$', fontsize=9) \n",
    "\n",
    "plt.rc( 'text', usetex=True )\n",
    "\n",
    "x0_prime_rec = np.full((n, T_horizon), np.nan)\n",
    "x0_hat_rec = np.full((n, T_horizon), np.nan)\n",
    "\n",
    "x0_hat = mu_x0\n",
    "x0_true = np.sqrt(Sigma_x0)@np.random.randn(n,1) + mu_x0\n",
    "x0_true_rec=np.full((n, T_horizon), np.nan)\n",
    "y1s=np.full((T_horizon, ), np.nan)\n",
    "for k in range(T_horizon):\n",
    "    print(k)\n",
    "    x0_hat_rec[:,k] = x0_hat.squeeze()\n",
    "    x0_true_rec[:,k] = x0_true.squeeze()\n",
    "    x0_bar = x0_hat\n",
    "    plt.plot(x0_hat[0],x0_hat[1],'sr',ms=2.5,zorder=1)\n",
    "    # Construct the optimization problem over xo' and xo'':\n",
    "    x0_prime = cp.Variable((n,))\n",
    "    constraints = Constraints(F,G,K,T,S,Sigma_x,Sigma_u,x0_bar,x0_prime,uBar,xBar,N,epsilon)\n",
    "    \n",
    "    objective = cp.Minimize(cp.quad_form(x0_prime, A1) + 2 * x0_bar.T @ A2 @ x0_prime)\n",
    "    #constraints = [cp.quad_form( x0_prime, I1 ) + x0_bar.T @ I2 @ x0_prime <= c - x0_bar.T @ I3 @ x0_bar]\n",
    "    prob = cp.Problem(objective,constraints)#)#, constraints)\n",
    "    # The optimal objective value is returned by `prob.solve()`.\n",
    "    result = prob.solve()\n",
    "    # The optimal value for x is stored in `x.value`.\n",
    "    x0star = x0_prime.value\n",
    "    x0_prime_rec[:,k] = x0star\n",
    "    u = 1 * np.array((K @ x0star).reshape(1,1)) + np.array((K @ x0_hat).reshape(1,1))\n",
    "    u = np.array((K @ x0_hat).reshape(1,1))\n",
    "    u = -u\n",
    "    x0_true, y0 = x_true_update(x0_true,F,G,u,H,Sigma_w,Sigma_v)\n",
    "    \n",
    "    #y1s[k]=y1\n",
    "    plt.plot(x0star[0]+x0_hat[0],x0star[1]+x0_hat[1],'*b',ms=2,zorder=2)\n",
    "    x0_hat = x_hat_update(y0,F,G,H,L,x0_hat,u)\n",
    "    \n",
    "    #plt.plot(x0_true[0],x0_true[1],'.k')\n",
    "plt.xlim([-3, 3])\n",
    "plt.ylim([-2, 3]) \n",
    "\n",
    "plt.savefig('figs/LinearStateSelection.pdf',bbox_inches =\"tight\")\n",
    "plt.xticks(fontsize=7)  \n",
    "plt.yticks(fontsize=7) \n",
    "\n",
    "plt.show()\n"
   ]
  },
  {
   "cell_type": "code",
   "execution_count": 47,
   "id": "6e810a1e",
   "metadata": {},
   "outputs": [
    {
     "data": {
      "text/plain": [
       "array([[-0.74641555,         nan,         nan,         nan,         nan,\n",
       "                nan,         nan,         nan,         nan,         nan,\n",
       "                nan,         nan,         nan,         nan,         nan,\n",
       "                nan,         nan,         nan,         nan,         nan,\n",
       "                nan,         nan,         nan,         nan,         nan,\n",
       "                nan,         nan,         nan,         nan,         nan,\n",
       "                nan,         nan,         nan,         nan,         nan,\n",
       "                nan,         nan,         nan,         nan,         nan,\n",
       "                nan,         nan,         nan,         nan,         nan,\n",
       "                nan,         nan,         nan,         nan,         nan,\n",
       "                nan,         nan,         nan,         nan,         nan,\n",
       "                nan,         nan,         nan,         nan,         nan,\n",
       "                nan,         nan,         nan,         nan,         nan,\n",
       "                nan,         nan,         nan,         nan,         nan,\n",
       "                nan,         nan,         nan,         nan,         nan,\n",
       "                nan,         nan,         nan,         nan,         nan,\n",
       "                nan,         nan,         nan,         nan,         nan,\n",
       "                nan,         nan,         nan,         nan,         nan,\n",
       "                nan,         nan,         nan,         nan,         nan,\n",
       "                nan,         nan,         nan,         nan,         nan],\n",
       "       [-0.93594261,         nan,         nan,         nan,         nan,\n",
       "                nan,         nan,         nan,         nan,         nan,\n",
       "                nan,         nan,         nan,         nan,         nan,\n",
       "                nan,         nan,         nan,         nan,         nan,\n",
       "                nan,         nan,         nan,         nan,         nan,\n",
       "                nan,         nan,         nan,         nan,         nan,\n",
       "                nan,         nan,         nan,         nan,         nan,\n",
       "                nan,         nan,         nan,         nan,         nan,\n",
       "                nan,         nan,         nan,         nan,         nan,\n",
       "                nan,         nan,         nan,         nan,         nan,\n",
       "                nan,         nan,         nan,         nan,         nan,\n",
       "                nan,         nan,         nan,         nan,         nan,\n",
       "                nan,         nan,         nan,         nan,         nan,\n",
       "                nan,         nan,         nan,         nan,         nan,\n",
       "                nan,         nan,         nan,         nan,         nan,\n",
       "                nan,         nan,         nan,         nan,         nan,\n",
       "                nan,         nan,         nan,         nan,         nan,\n",
       "                nan,         nan,         nan,         nan,         nan,\n",
       "                nan,         nan,         nan,         nan,         nan,\n",
       "                nan,         nan,         nan,         nan,         nan]])"
      ]
     },
     "execution_count": 47,
     "metadata": {},
     "output_type": "execute_result"
    }
   ],
   "source": [
    "x0_true_rec"
   ]
  },
  {
   "cell_type": "code",
   "execution_count": 48,
   "id": "4c6480bc",
   "metadata": {},
   "outputs": [
    {
     "name": "stdout",
     "output_type": "stream",
     "text": [
      "[[0. 0.]\n",
      " [0. 0.]] [[0. 0.]\n",
      " [0. 0.]] [[0. 0.]\n",
      " [0. 0.]]\n"
     ]
    }
   ],
   "source": [
    "print(I1,I2,I3)"
   ]
  },
  {
   "cell_type": "code",
   "execution_count": 49,
   "id": "fb16dbb2",
   "metadata": {},
   "outputs": [
    {
     "data": {
      "text/plain": [
       "(array([1.71825029, 0.4428295 ]),\n",
       " array([[ 0.91224361, -0.40964814],\n",
       "        [ 0.40964814,  0.91224361]]))"
      ]
     },
     "execution_count": 49,
     "metadata": {},
     "output_type": "execute_result"
    }
   ],
   "source": [
    "np.linalg.eig(Sigma_x)"
   ]
  },
  {
   "cell_type": "code",
   "execution_count": 50,
   "id": "a6dc3ce7",
   "metadata": {},
   "outputs": [
    {
     "ename": "NameError",
     "evalue": "name 'KF_1step' is not defined",
     "output_type": "error",
     "traceback": [
      "\u001b[0;31m---------------------------------------------------------------------------\u001b[0m",
      "\u001b[0;31mNameError\u001b[0m                                 Traceback (most recent call last)",
      "Cell \u001b[0;32mIn[50], line 26\u001b[0m\n\u001b[1;32m     24\u001b[0m     x0_true, y1 \u001b[38;5;241m=\u001b[39m x_true_update(x0_true,F,G,u,H,Sigma_w,Sigma_v)\n\u001b[1;32m     25\u001b[0m     \u001b[38;5;66;03m#y1s[k]=y1\u001b[39;00m\n\u001b[0;32m---> 26\u001b[0m     xpp0, Sigmapp0 \u001b[38;5;241m=\u001b[39m \u001b[43mKF_1step\u001b[49m(y1,Sigma_w,Sigma_v,F,G,H,Sigmapp0,xpp0,u)\n\u001b[1;32m     27\u001b[0m     \u001b[38;5;66;03m#plt.plot(x0_true[0],x0_true[1],'.k')\u001b[39;00m\n\u001b[1;32m     29\u001b[0m plt\u001b[38;5;241m.\u001b[39msavefig(\u001b[38;5;124m'\u001b[39m\u001b[38;5;124mfigs/LinearStateSpaceLQROnly.pdf\u001b[39m\u001b[38;5;124m'\u001b[39m,bbox_inches \u001b[38;5;241m=\u001b[39m\u001b[38;5;124m\"\u001b[39m\u001b[38;5;124mtight\u001b[39m\u001b[38;5;124m\"\u001b[39m)\n",
      "\u001b[0;31mNameError\u001b[0m: name 'KF_1step' is not defined"
     ]
    },
    {
     "data": {
      "image/png": "[encoded data removed]",
      "text/plain": [
       "<Figure size 300x200 with 1 Axes>"
      ]
     },
     "metadata": {},
     "output_type": "display_data"
    }
   ],
   "source": [
    "# Plotting\n",
    "#With particle filter conditional mean\n",
    "plt.style.use('bmh')\n",
    "fig= plt.figure(figsize=(3.0,2.0))\n",
    "rectangle = plt.Rectangle((2,-10), 20, 20, fc='None',ec=\"grey\", hatch='xx',zorder=1)\n",
    "plt.gca().add_patch(rectangle)\n",
    "\n",
    "plt.xticks(fontsize=7)  \n",
    "plt.yticks(fontsize=7)  \n",
    "plt.xlabel('$x^1_k$', fontsize=9)  \n",
    "plt.ylabel('$x^2_k$', fontsize=9) \n",
    "plt.xlim([-3, 3])\n",
    "plt.ylim([-2, 3])\n",
    "\n",
    "# Initialize algorithm\n",
    "Sigmapp0 = Sigma_x0\n",
    "xpp0 = mu_x0\n",
    "x0_true=np.sqrt(Sigma_x0)@np.random.randn(n,1)+mu_x0\n",
    "y1s=np.full((T_horizon,),np.nan)\n",
    "for k in range(T_horizon):\n",
    "    plt.plot(xpp0[0],xpp0[1],'sr',ms=3,zorder=1)\n",
    "    # Construct the problem.\n",
    "    u = np.array((K@xpp0).reshape(1,1))\n",
    "    x0_true, y1 = x_true_update(x0_true,F,G,u,H,Sigma_w,Sigma_v)\n",
    "    #y1s[k]=y1\n",
    "    xpp0, Sigmapp0 = KF_1step(y1,Sigma_w,Sigma_v,F,G,H,Sigmapp0,xpp0,u)\n",
    "    #plt.plot(x0_true[0],x0_true[1],'.k')\n",
    "\n",
    "plt.savefig('figs/LinearStateSpaceLQROnly.pdf',bbox_inches =\"tight\")\n",
    "plt.show()\n"
   ]
  },
  {
   "cell_type": "code",
   "execution_count": null,
   "id": "435bb960",
   "metadata": {},
   "outputs": [
    {
     "ename": "NameError",
     "evalue": "name 'Sigmas11' is not defined",
     "output_type": "error",
     "traceback": [
      "\u001b[0;31m---------------------------------------------------------------------------\u001b[0m",
      "\u001b[0;31mNameError\u001b[0m                                 Traceback (most recent call last)",
      "Cell \u001b[0;32mIn[30], line 5\u001b[0m\n\u001b[1;32m      3\u001b[0m rectangle \u001b[38;5;241m=\u001b[39m plt\u001b[38;5;241m.\u001b[39mRectangle((\u001b[38;5;241m-\u001b[39m\u001b[38;5;241m1\u001b[39m,\u001b[38;5;241m2\u001b[39m), \u001b[38;5;241m200\u001b[39m, \u001b[38;5;241m20\u001b[39m, fc\u001b[38;5;241m=\u001b[39m\u001b[38;5;124m'\u001b[39m\u001b[38;5;124mNone\u001b[39m\u001b[38;5;124m'\u001b[39m,ec\u001b[38;5;241m=\u001b[39m\u001b[38;5;124m\"\u001b[39m\u001b[38;5;124mgrey\u001b[39m\u001b[38;5;124m\"\u001b[39m, hatch\u001b[38;5;241m=\u001b[39m\u001b[38;5;124m'\u001b[39m\u001b[38;5;124mxx\u001b[39m\u001b[38;5;124m'\u001b[39m,zorder\u001b[38;5;241m=\u001b[39m\u001b[38;5;241m1\u001b[39m)\n\u001b[1;32m      4\u001b[0m plt\u001b[38;5;241m.\u001b[39mgca()\u001b[38;5;241m.\u001b[39madd_patch(rectangle)\n\u001b[0;32m----> 5\u001b[0m sigmas\u001b[38;5;241m=\u001b[39mnp\u001b[38;5;241m.\u001b[39msqrt(\u001b[43mSigmas11\u001b[49m)\u001b[38;5;241m.\u001b[39mreshape(T_horizon,)\n\u001b[1;32m      6\u001b[0m k\u001b[38;5;241m=\u001b[39m\u001b[38;5;28mrange\u001b[39m(T_horizon)\n\u001b[1;32m      7\u001b[0m x\u001b[38;5;241m=\u001b[39mx0_hat_rec\u001b[38;5;241m.\u001b[39mreshape(T_horizon,)\n",
      "\u001b[0;31mNameError\u001b[0m: name 'Sigmas11' is not defined"
     ]
    },
    {
     "data": {
      "image/png": "[encoded data removed]",
      "text/plain": [
       "<Figure size 300x200 with 1 Axes>"
      ]
     },
     "metadata": {},
     "output_type": "display_data"
    }
   ],
   "source": [
    "plt.style.use('bmh')\n",
    "fig= plt.figure(figsize=(3.0,2.0))\n",
    "rectangle = plt.Rectangle((-1,2), 200, 20, fc='None',ec=\"grey\", hatch='xx',zorder=1)\n",
    "plt.gca().add_patch(rectangle)\n",
    "sigmas=np.sqrt(Sigmas11).reshape(T_horizon,)\n",
    "k=range(T_horizon)\n",
    "x=x0_hat_rec.reshape(T_horizon,)\n",
    "nn=2\n",
    "y1 = x-nn*sigmas\n",
    "y2 = x+nn*sigmas\n",
    "\n",
    "# plot\n",
    "plt.xticks(fontsize=7)  \n",
    "plt.yticks(fontsize=7)  \n",
    "plt.xlabel('$k$', fontsize=9)  \n",
    "plt.ylabel('$x^1_k$', fontsize=9) \n",
    "\n",
    "plt.fill_between(k, y1, y2, alpha=.5, linewidth=0)\n",
    "plt.plot(k, x, '-o', ms=1.5 , linewidth=1)\n",
    "plt.plot(k,x0_true_rec,'sk',ms=2,linewidth=1,zorder=0)\n",
    "plt.xlim([0, 100])\n",
    "plt.ylim([-2.5, 2.5])\n",
    "plt.savefig('figs/Linear2Sigmas.pdf',bbox_inches =\"tight\")\n",
    "plt.show()"
   ]
  }
 ],
 "metadata": {
  "kernelspec": {
   "display_name": "base",
   "language": "python",
   "name": "python3"
  },
  "language_info": {
   "codemirror_mode": {
    "name": "ipython",
    "version": 3
   },
   "file_extension": ".py",
   "mimetype": "text/x-python",
   "name": "python",
   "nbconvert_exporter": "python",
   "pygments_lexer": "ipython3",
   "version": "3.11.3"
  },
  "vscode": {
   "interpreter": {
    "hash": "318b6fc2e20c9f7191fcd4ee659045d506397866603242793b39b92404550662"
   }
  }
 },
 "nbformat": 4,
 "nbformat_minor": 5
}
