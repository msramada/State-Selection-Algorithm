{
 "cells": [
  {
   "cell_type": "code",
   "execution_count": 792,
   "id": "d891131c",
   "metadata": {},
   "outputs": [],
   "source": [
    "import numpy as np\n",
    "import random\n",
    "import matplotlib.pyplot as plt\n",
    "import pandas as pd\n",
    "import time\n",
    "from scipy.linalg import block_diag\n",
    "from scipy import linalg\n",
    "import control\n",
    "import matplotlib.colors as colors\n",
    "from matplotlib import style\n",
    "from matplotlib.patches import Rectangle\n",
    "from numpy.linalg import matrix_power\n",
    "import cvxpy as cp"
   ]
  },
  {
   "cell_type": "code",
   "execution_count": 793,
   "id": "e02e208e",
   "metadata": {},
   "outputs": [],
   "source": [
    "# finding the value of Gamma_k, a helper\n",
    "def Gamma(F,G,K,k):\n",
    "    Gamma_k = np.zeros(F.shape)\n",
    "    for h in range(k+1):\n",
    "        Gamma_k += - matrix_power(F - G @ K, h) @ G @ K @ matrix_power(F - G @ K, k-h)\n",
    "    return Gamma_k"
   ]
  },
  {
   "cell_type": "code",
   "execution_count": 794,
   "id": "5c19abcf",
   "metadata": {},
   "outputs": [],
   "source": [
    "# calculating constant values \\mathcal A1, A2 of J_c(x_0')\n",
    "def A1_and_A2(F,G,K,Q,R,N):\n",
    "    A1 = Gamma(F,G,K,N-1).T @ Q @ Gamma(F,G,K,N-1)\n",
    "    F_K = F - G @ K\n",
    "    A2 = matrix_power(F_K,N).T @ Q @ Gamma(F,G,K,N-1) \n",
    "    for k in range(N):\n",
    "        A1 += Gamma(F,G,K,k-1).T @ Q @ Gamma(F,G,K,k-1) + (matrix_power(F_K,k) + \n",
    "                Gamma(F,G,K,k-1)).T @ K.T @ R @ K @ (matrix_power(F_K,k) + Gamma(F,G,K,k-1))\n",
    "        A2 += matrix_power(F_K,k).T @ (Q @ Gamma(F,G,K,k-1) + K.T @ R @ K @ (matrix_power(F_K,k) + Gamma(F,G,K,k-1)))\n",
    "    return A1/N, A2/N\n"
   ]
  },
  {
   "cell_type": "code",
   "execution_count": 795,
   "id": "697434d7",
   "metadata": {},
   "outputs": [],
   "source": [
    "def terminal_constraints(F,G,K,N,P):\n",
    "    F_K = F - G @ K\n",
    "    X1 = np.concatenate((Gamma(F,G,K,N-1),matrix_power(F_K,N)), axis=0)\n",
    "    X2 = np.concatenate((matrix_power(F_K,N), np.zeros(F.shape)), axis=0)\n",
    "\n",
    "    I1 = X1.T @ P @ X1\n",
    "    I2 = 2 * X2.T @ P @ X1\n",
    "    I3 = X2.T @ P @ X2\n",
    "    return I1, I2, I3"
   ]
  },
  {
   "cell_type": "code",
   "execution_count": 796,
   "id": "fa424be3",
   "metadata": {},
   "outputs": [],
   "source": [
    "def big_covariance_Sigma(F,G,K,H,L,Sigma_v,Sigma_w):\n",
    "    Phi1 = np.concatenate((F - L @ H, np.zeros(F.shape)), axis=1)\n",
    "    Phi2 = np.concatenate((L @ H, F - G @ K), axis=1)\n",
    "    Phi = np.concatenate((Phi1,Phi2), axis=0)\n",
    "    \n",
    "    Psi1 = np.concatenate((np.eye(F.shape[0]), -L), axis=1)\n",
    "    Psi2 = np.concatenate((np.zeros(F.shape), L), axis=1)\n",
    "    Psi = np.concatenate((Psi1,Psi2), axis=0)\n",
    "    \n",
    "    Omega = block_diag(Sigma_w,Sigma_v)\n",
    "    Sigma = linalg.solve_discrete_lyapunov(Phi, Psi @ Omega @ Psi.T)\n",
    "    return Sigma\n",
    "    \n",
    "def lyapunov_matrix_P(F,G,K,Q0):\n",
    "    A1 = np.concatenate((F - G @ K, -G @ K), axis=1)\n",
    "    A2 = np.concatenate((np.zeros(F.shape), F - G @ K), axis=1)\n",
    "    AT = np.concatenate((A1,A2), axis=0)\n",
    "    A = AT.T\n",
    "    P = linalg.solve_discrete_lyapunov(A, Q0)\n",
    "    return P"
   ]
  },
  {
   "cell_type": "code",
   "execution_count": 797,
   "id": "6e585837",
   "metadata": {},
   "outputs": [
    {
     "data": {
      "text/plain": [
       "array([[2],\n",
       "       [1]])"
      ]
     },
     "execution_count": 797,
     "metadata": {},
     "output_type": "execute_result"
    }
   ],
   "source": [
    "b = np.array([[1]])\n",
    "a = np.array([[2]])\n",
    "np.concatenate((a,b), axis=0)"
   ]
  },
  {
   "cell_type": "code",
   "execution_count": 798,
   "id": "5a5698d9",
   "metadata": {},
   "outputs": [],
   "source": [
    "def x_hat_update(y0,F,G,H,L,x00,u): \n",
    "    x11 = F @ x00 + G @ u + L @ (y0 - H @ x00) \n",
    "    return x11\n",
    "\n",
    "def x_true_update(x0,F,G,u,H,Sigma_w,Sigma_v):\n",
    "    x1 = F @ x0 + G @ u + np.sqrt(Sigma_w) @ np.random.randn(x0.shape[0],1)\n",
    "    y0 = H @ x0 + np.sqrt(Sigma_v) @ np.random.randn(H.shape[0],1)\n",
    "    return x1, y0"
   ]
  },
  {
   "cell_type": "code",
   "execution_count": 799,
   "id": "b92fc699",
   "metadata": {},
   "outputs": [],
   "source": [
    "# State dynamics\n",
    "F=np.array([[1,0.0075],[-0.143,0.996]])\n",
    "G=np.array([[4.798,0.115]]).T\n",
    "H=np.array([[1,0],[0,1]])\n",
    "\n",
    "mu_x0=-np.array([[0.6455,1.3751]]).T\n",
    "#mu_x0=np.random.randn(2,1)\n",
    "Sigma_w=np.diag(np.array([0.1,0.1]))\n",
    "Sigma_v=np.diag(np.array([0.1,0.1]))\n",
    "# LQR: costs and gain\n",
    "Q=1 * np.diag([1,1])\n",
    "R=1 * np.eye(G.shape[1])\n",
    "K, _, _ = control.dlqr(F, G, Q, R)\n",
    "L, _, _ = control.dlqe(F, np.eye(F.shape[0]), H, Sigma_w, Sigma_v)\n",
    "#L = (F - G @ K) @ L # One-step ahead predictor\n",
    "# N: prediction horizon, T: horizon, epsilon: tolerance\n",
    "N=8\n",
    "T_horizon=50\n",
    "epsilon=0.2\n",
    "Q0 = 0.1 * np.eye(2 * F.shape[0])\n",
    "P = lyapunov_matrix_P(F,G,K,Q0)\n",
    "I1, I2, I3 = terminal_constraints(F,G,K,N,P)\n",
    "Sigma = big_covariance_Sigma(F,G,K,H,L,Sigma_v,Sigma_w)\n",
    "I_I = np.concatenate((np.eye(F.shape[0]),np.eye(F.shape[0])), axis=1)\n",
    "K_0 = K @ np.concatenate((np.zeros(F.shape), np.eye(F.shape[0])), axis=1)\n",
    "Sigma_x = I_I @ Sigma @ I_I.T\n",
    "#Sigma_x = 0.01 * np.diag(np.array([0.1,0.1]))\n",
    "Sigma_u = K_0 @ Sigma @ K_0.T\n",
    "# Constraints\n",
    "T=np.array([[1,0]])\n",
    "S=np.array([[0]])\n",
    "xBar=np.array([[2]]).T\n",
    "uBar=10 ** 8\n",
    "\n",
    "# Few parameters\n",
    "n=F.shape[0]\n",
    "t=T.shape[0]\n",
    "m=S.shape[0]\n",
    "\n",
    "c=1\n",
    "# Calculate A1 and A2\n",
    "A1, A2 = A1_and_A2(F,G,K,Q,R,N)"
   ]
  },
  {
   "cell_type": "code",
   "execution_count": 800,
   "id": "3acfc279",
   "metadata": {},
   "outputs": [
    {
     "data": {
      "text/plain": [
       "0.9972141104514533"
      ]
     },
     "execution_count": 800,
     "metadata": {},
     "output_type": "execute_result"
    }
   ],
   "source": [
    "1/(np.sqrt(np.linalg.eig(P)[0].max()/c))"
   ]
  },
  {
   "cell_type": "code",
   "execution_count": 801,
   "id": "62000df8",
   "metadata": {},
   "outputs": [
    {
     "data": {
      "text/plain": [
       "array([[1.58637142]])"
      ]
     },
     "execution_count": 801,
     "metadata": {},
     "output_type": "execute_result"
    }
   ],
   "source": [
    "np.sqrt((t-epsilon)/epsilon)*np.sqrt(np.diag(T@Sigma_x@T.T).reshape(t,1))"
   ]
  },
  {
   "cell_type": "code",
   "execution_count": 802,
   "id": "a592b0af",
   "metadata": {},
   "outputs": [
    {
     "name": "stdout",
     "output_type": "stream",
     "text": [
      "0\n",
      "[-2.52101613 -3.06764533]\n",
      "1\n",
      "[-2.13009726 -2.50159071]\n",
      "2\n",
      "[-2.05201342 -2.39374743]\n",
      "3\n",
      "[-2.10032633 -2.46032355]\n",
      "4\n",
      "[-2.22963458 -2.64107544]\n",
      "5\n",
      "[-1.99507415 -2.31589478]\n",
      "6\n",
      "[-2.06124024 -2.40642584]\n",
      "7\n",
      "[-2.38597344 -2.86574639]\n",
      "8\n",
      "[-2.57521419 -3.15184252]\n",
      "9\n",
      "[-2.63435749 -3.24691065]\n",
      "10\n",
      "[-2.55233852 -3.11604357]\n",
      "11\n",
      "[-2.37385467 -2.92880692]\n",
      "12\n",
      "[-2.58699922 -3.19177735]\n",
      "13\n",
      "[-2.63308524 -3.24482168]\n",
      "14\n",
      "[-2.53407841 -3.08775266]\n",
      "15\n",
      "[-2.04395523 -2.52177898]\n",
      "16\n",
      "[-1.64581939 -2.03057363]\n",
      "17\n",
      "[-1.71351174 -2.11409325]\n",
      "18\n",
      "[-0.4254651  -0.52492655]\n",
      "19\n",
      "[-1.33409012 -1.64596741]\n",
      "20\n",
      "[-0.88581491 -1.0928941 ]\n",
      "21\n",
      "[-1.02554383 -1.26528794]\n",
      "22\n",
      "[-0.96215012 -1.1870745 ]\n",
      "23\n",
      "[-0.88184768 -1.08799948]\n",
      "24\n",
      "[-0.99733246 -1.23048157]\n",
      "25\n",
      "[0.2606534  0.32159409]\n",
      "26\n",
      "[-0.13512578 -0.1667132 ]\n",
      "27\n",
      "[-0.08883623 -0.10960228]\n",
      "28\n",
      "[-0.19699025 -0.24304003]\n",
      "29\n",
      "[-0.14006207 -0.17280347]\n",
      "30\n",
      "[-0.35058481 -0.4325411 ]\n",
      "31\n",
      "[-1.19352938 -1.47254292]\n",
      "32\n",
      "[-1.28447059 -1.584744  ]\n",
      "33\n",
      "[-1.70899841 -2.10852465]\n",
      "34\n",
      "[-1.63625857 -2.01877786]\n",
      "35\n",
      "[-0.21040317 -0.2595886 ]\n",
      "36\n",
      "[1.46923247 1.81270779]\n",
      "37\n",
      "[1.49975486 1.85036267]\n",
      "38\n",
      "[1.10366439 1.36167448]\n",
      "39\n",
      "[-0.95957171 -1.18389319]\n",
      "40\n",
      "[-2.04860955 -2.52752264]\n",
      "41\n",
      "[-2.63096853 -3.24132591]\n",
      "42\n",
      "[-2.57323647 -3.14874312]\n",
      "43\n",
      "[-2.56905985 -3.14217817]\n",
      "44\n",
      "[-2.00626185 -2.47527079]\n",
      "45\n",
      "[-1.5527721  -1.91577432]\n",
      "46\n",
      "[-2.21332328 -2.73074291]\n",
      "47\n",
      "[-1.73254469 -2.1375706 ]\n",
      "48\n",
      "[-0.56003793 -0.69095898]\n",
      "49\n",
      "[0.18511243 0.22839272]\n"
     ]
    },
    {
     "data": {
      "image/png": "[encoded data removed]",
      "text/plain": [
       "<Figure size 300x200 with 1 Axes>"
      ]
     },
     "metadata": {},
     "output_type": "display_data"
    }
   ],
   "source": [
    "\n",
    "plt.style.use('bmh')\n",
    "fig= plt.figure(figsize=(3.0,2.0))\n",
    "rectangle = plt.Rectangle((2,-10), 20, 20, fc='None',ec=\"grey\", hatch='xx',zorder=1)\n",
    "plt.gca().add_patch(rectangle)\n",
    "\n",
    "plt.xticks(fontsize=7)  \n",
    "plt.yticks(fontsize=7)  \n",
    "plt.xlabel('$x^1_k$', fontsize=9)  \n",
    "plt.ylabel('$x^2_k$', fontsize=9) \n",
    "\n",
    "plt.rc( 'text', usetex=True )\n",
    "\n",
    "x0_prime_rec = np.full((n, T_horizon), np.nan)\n",
    "x0_hat_rec = np.full((n, T_horizon), np.nan)\n",
    "\n",
    "x0_hat = mu_x0\n",
    "x0_true = np.sqrt(Sigma_x)@np.random.randn(n,1) + mu_x0\n",
    "x0_true_rec=np.full((n, T_horizon), np.nan)\n",
    "y1s=np.full((T_horizon, ), np.nan)\n",
    "for k in range(T_horizon):\n",
    "    print(k)\n",
    "    x0_hat_rec[:,k] = x0_hat.squeeze()\n",
    "    x0_true_rec[:,k] = x0_true.squeeze()\n",
    "    x0_bar = x0_hat\n",
    "    plt.plot(x0_hat[0],x0_hat[1],'sr',ms=2.5,zorder=1)\n",
    "    # Construct the optimization problem over xo' and xo'':\n",
    "    x0_prime = cp.Variable(n)\n",
    "    objective = cp.Minimize(cp.quad_form(x0_prime, A1) + 2 * x0_bar.T @ A2 @ x0_prime)\n",
    "    \n",
    "    constraints = []\n",
    "    for kk in range(1,N+1):\n",
    "        A_constraints = T @ Gamma(F,G,K,kk-1)\n",
    "        b_constraints = -T @ matrix_power(F-G@K,kk) @ x0_bar + \\\n",
    "            xBar-np.sqrt((t-epsilon)/epsilon)*np.sqrt(np.diag(T@Sigma_x@T.T).reshape(t,1))\n",
    "        constraints += [A_constraints @ x0_prime <= b_constraints]\n",
    "\n",
    "    constraints += [cp.quad_form(x0_prime, I1) + x0_bar.T @ I2 @ x0_prime <= c - x0_bar.T @ I3 @ x0_bar]\n",
    "    prob = cp.Problem(objective, constraints)#)#, constraints)\n",
    "    # The optimal objective value is returned by `prob.solve()`.\n",
    "    result = prob.solve()\n",
    "    # The optimal value for x is stored in `x.value`.\n",
    "    x0star = x0_prime.value\n",
    "    #if x0_hat[1] >= 0:\n",
    "    #    x0star[1] = -x0_hat[1]\n",
    "    x0_prime_rec[:,k] = x0star.squeeze()\n",
    "    u = - K @ (x0star + x0_hat.squeeze())\n",
    "    u = np.array([u])\n",
    "    x0_true, y0 = x_true_update(x0_true,F,G,u,H,Sigma_w,Sigma_v)\n",
    "#    plt.plot(x0_hat[0],x0_hat[1],'*b',ms=2,zorder=2)\n",
    "    x0_hat = x_hat_update(y0,F,G,H,L,x0_hat,u)\n",
    "    print(x0star)\n",
    "    #plt.plot(x0_true[0],x0_true[1],'.k')\n",
    "plt.xlim([-3, 3])\n",
    "plt.ylim([-3, 7]) \n",
    "\n",
    "plt.savefig('figs/LinearStateSelection.pdf',bbox_inches =\"tight\")\n",
    "plt.xticks(fontsize=7)  \n",
    "plt.yticks(fontsize=7) \n",
    "\n",
    "plt.show()\n"
   ]
  },
  {
   "cell_type": "code",
   "execution_count": 803,
   "id": "a6dc3ce7",
   "metadata": {},
   "outputs": [
    {
     "data": {
      "image/png": "[encoded data removed]",
      "text/plain": [
       "<Figure size 300x200 with 1 Axes>"
      ]
     },
     "metadata": {},
     "output_type": "display_data"
    }
   ],
   "source": [
    "# Plotting\n",
    "#With particle filter conditional mean\n",
    "plt.style.use('bmh')\n",
    "fig= plt.figure(figsize=(3.0,2.0))\n",
    "rectangle = plt.Rectangle((2,-10), 20, 20, fc='None',ec=\"grey\", hatch='xx',zorder=1)\n",
    "plt.gca().add_patch(rectangle)\n",
    "\n",
    "plt.xticks(fontsize=7)  \n",
    "plt.yticks(fontsize=7)  \n",
    "plt.xlabel('$x^1_k$', fontsize=9)  \n",
    "plt.ylabel('$x^2_k$', fontsize=9) \n",
    "plt.xlim([-3, 3])\n",
    "plt.ylim([-2, 3])\n",
    "\n",
    "# Initialize algorithm\n",
    "Sigmapp0 = Sigma_x0\n",
    "x0_hat = mu_x0\n",
    "x0_true=np.sqrt(Sigma_x0)@np.random.randn(n,1)+mu_x0\n",
    "y1s=np.full((T_horizon,),np.nan)\n",
    "for k in range(T_horizon):\n",
    "    plt.plot(x0_hat[0],x0_hat[1],'sr',ms=3,zorder=1)\n",
    "    # Construct the problem.\n",
    "    u = -np.array((K @ x0_hat).reshape(1,1))\n",
    "    x0_true, y0 = x_true_update(x0_true,F,G,u,H,Sigma_w,Sigma_v)\n",
    "    #y1s[k]=y1\n",
    "    x0_hat = x_hat_update(y0,F,G,H,L,x0_hat,u)\n",
    "    #plt.plot(x0_true[0],x0_true[1],'.k')\n",
    "\n",
    "plt.savefig('figs/LinearStateSpaceLQROnly.pdf',bbox_inches =\"tight\")\n",
    "plt.show()\n"
   ]
  },
  {
   "cell_type": "code",
   "execution_count": 804,
   "id": "435bb960",
   "metadata": {},
   "outputs": [
    {
     "data": {
      "image/png": "[encoded data removed]",
      "text/plain": [
       "<Figure size 300x200 with 1 Axes>"
      ]
     },
     "metadata": {},
     "output_type": "display_data"
    }
   ],
   "source": [
    "plt.style.use('bmh')\n",
    "fig= plt.figure(figsize=(3.0,2.0))\n",
    "rectangle = plt.Rectangle((-1,2), 500, 20, fc='None',ec=\"grey\", hatch='xx',zorder=1)\n",
    "plt.gca().add_patch(rectangle)\n",
    "sigmas=np.sqrt(Sigma_x)[0,0]\n",
    "k=range(T_horizon)\n",
    "x=x0_hat_rec[0,:].reshape(T_horizon,)\n",
    "nn=2\n",
    "y1 = x-nn*sigmas\n",
    "y2 = x+nn*sigmas\n",
    "\n",
    "# plot\n",
    "plt.xticks(fontsize=7)  \n",
    "plt.yticks(fontsize=7)  \n",
    "plt.xlabel('$k$', fontsize=9)  \n",
    "plt.ylabel('$x^1_k$', fontsize=9) \n",
    "\n",
    "plt.fill_between(k, y1, y2, alpha=.5, linewidth=0)\n",
    "plt.plot(k, x, '-o', ms=1.5 , linewidth=1)\n",
    "plt.plot(k,x0_true_rec[0,:],'sk',ms=2,linewidth=1,zorder=0)\n",
    "plt.xlim([0, 50])\n",
    "plt.ylim([-2.5, 2.5])\n",
    "plt.savefig('figs/Linear2Sigmas.pdf',bbox_inches =\"tight\")\n",
    "plt.show()"
   ]
  }
 ],
 "metadata": {
  "kernelspec": {
   "display_name": "base",
   "language": "python",
   "name": "python3"
  },
  "language_info": {
   "codemirror_mode": {
    "name": "ipython",
    "version": 3
   },
   "file_extension": ".py",
   "mimetype": "text/x-python",
   "name": "python",
   "nbconvert_exporter": "python",
   "pygments_lexer": "ipython3",
   "version": "3.11.3"
  },
  "vscode": {
   "interpreter": {
    "hash": "318b6fc2e20c9f7191fcd4ee659045d506397866603242793b39b92404550662"
   }
  }
 },
 "nbformat": 4,
 "nbformat_minor": 5
}
